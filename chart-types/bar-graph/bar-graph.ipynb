{
 "cells": [
  {
   "cell_type": "markdown",
   "id": "05b12869",
   "metadata": {},
   "source": [
    "# Making a bar graph in plotnine\n",
    "\n",
    "## Basic bar chart\n",
    "\n",
    "Making a bar graph in plotnine is a tiny bit more difficult than other charts.\n",
    "\n",
    "Usually you'll want your data organized up so that each row will be its own bar. In this dataset, each type of animal is going to get its own bar:"
   ]
  },
  {
   "cell_type": "code",
   "execution_count": 145,
   "id": "8cc924b7",
   "metadata": {},
   "outputs": [
    {
     "data": {
      "text/html": [
       "<div>\n",
       "<style scoped>\n",
       "    .dataframe tbody tr th:only-of-type {\n",
       "        vertical-align: middle;\n",
       "    }\n",
       "\n",
       "    .dataframe tbody tr th {\n",
       "        vertical-align: top;\n",
       "    }\n",
       "\n",
       "    .dataframe thead th {\n",
       "        text-align: right;\n",
       "    }\n",
       "</style>\n",
       "<table border=\"1\" class=\"dataframe\">\n",
       "  <thead>\n",
       "    <tr style=\"text-align: right;\">\n",
       "      <th></th>\n",
       "      <th>species</th>\n",
       "      <th>num_animals</th>\n",
       "    </tr>\n",
       "  </thead>\n",
       "  <tbody>\n",
       "    <tr>\n",
       "      <th>0</th>\n",
       "      <td>cat</td>\n",
       "      <td>8</td>\n",
       "    </tr>\n",
       "    <tr>\n",
       "      <th>1</th>\n",
       "      <td>dog</td>\n",
       "      <td>22</td>\n",
       "    </tr>\n",
       "    <tr>\n",
       "      <th>2</th>\n",
       "      <td>rabbit</td>\n",
       "      <td>2</td>\n",
       "    </tr>\n",
       "  </tbody>\n",
       "</table>\n",
       "</div>"
      ],
      "text/plain": [
       "  species  num_animals\n",
       "0     cat            8\n",
       "1     dog           22\n",
       "2  rabbit            2"
      ]
     },
     "execution_count": 145,
     "metadata": {},
     "output_type": "execute_result"
    }
   ],
   "source": [
    "import pandas as pd\n",
    "from plotnine import *\n",
    "\n",
    "df = pd.DataFrame([\n",
    "    { 'species': 'cat', 'num_animals': 8 },\n",
    "    { 'species': 'dog', 'num_animals': 22 },\n",
    "    { 'species': 'rabbit', 'num_animals': 2 },\n",
    "])\n",
    "df"
   ]
  },
  {
   "cell_type": "markdown",
   "id": "eae51bf3",
   "metadata": {},
   "source": [
    "When we plot, we use `geom_bar` to plot a bar. "
   ]
  },
  {
   "cell_type": "code",
   "execution_count": 146,
   "id": "4e455891",
   "metadata": {},
   "outputs": [
    {
     "data": {
      "image/png": "[encoded data removed]",
      "text/plain": [
       "<Figure size 640x480 with 1 Axes>"
      ]
     },
     "metadata": {},
     "output_type": "display_data"
    },
    {
     "data": {
      "text/plain": [
       "<ggplot: (325275832)>"
      ]
     },
     "execution_count": 146,
     "metadata": {},
     "output_type": "execute_result"
    }
   ],
   "source": [
    "(\n",
    "    ggplot(df)\n",
    "    + aes(x='species', y='num_animals')\n",
    "    + geom_bar(stat='identity')\n",
    ")"
   ]
  },
  {
   "cell_type": "markdown",
   "id": "944aa586",
   "metadata": {},
   "source": [
    "The little extra bit we added was `stat='identity'`. It means \"just plot the y axis like you would expect it to be plotted.\"\n",
    "\n",
    "What's the alternative?? Glad you asked!"
   ]
  },
  {
   "cell_type": "markdown",
   "id": "047a3047",
   "metadata": {},
   "source": [
    "## Aggregate bar chart (median)\n",
    "\n",
    "A lot of the time your data isn't set up like you want it to be set up. Say for example we have a bunch of countries with life expectancies. Want we want to plot is different, though: we want the median life expectancy per continent."
   ]
  },
  {
   "cell_type": "code",
   "execution_count": 90,
   "id": "fbc6e19e",
   "metadata": {},
   "outputs": [
    {
     "data": {
      "text/html": [
       "<div>\n",
       "<style scoped>\n",
       "    .dataframe tbody tr th:only-of-type {\n",
       "        vertical-align: middle;\n",
       "    }\n",
       "\n",
       "    .dataframe tbody tr th {\n",
       "        vertical-align: top;\n",
       "    }\n",
       "\n",
       "    .dataframe thead th {\n",
       "        text-align: right;\n",
       "    }\n",
       "</style>\n",
       "<table border=\"1\" class=\"dataframe\">\n",
       "  <thead>\n",
       "    <tr style=\"text-align: right;\">\n",
       "      <th></th>\n",
       "      <th>country</th>\n",
       "      <th>continent</th>\n",
       "      <th>gdp_per_capita</th>\n",
       "      <th>life_expectancy</th>\n",
       "      <th>population</th>\n",
       "    </tr>\n",
       "  </thead>\n",
       "  <tbody>\n",
       "    <tr>\n",
       "      <th>0</th>\n",
       "      <td>Afghanistan</td>\n",
       "      <td>Asia</td>\n",
       "      <td>663</td>\n",
       "      <td>54.863</td>\n",
       "      <td>22856302</td>\n",
       "    </tr>\n",
       "    <tr>\n",
       "      <th>1</th>\n",
       "      <td>Albania</td>\n",
       "      <td>Europe</td>\n",
       "      <td>4195</td>\n",
       "      <td>74.200</td>\n",
       "      <td>3071856</td>\n",
       "    </tr>\n",
       "  </tbody>\n",
       "</table>\n",
       "</div>"
      ],
      "text/plain": [
       "       country continent  gdp_per_capita  life_expectancy  population\n",
       "0  Afghanistan      Asia             663           54.863    22856302\n",
       "1      Albania    Europe            4195           74.200     3071856"
      ]
     },
     "execution_count": 90,
     "metadata": {},
     "output_type": "execute_result"
    }
   ],
   "source": [
    "import pandas as pd\n",
    "from plotnine import *\n",
    "\n",
    "df = pd.read_csv('countries.csv')\n",
    "df.head(2)"
   ]
  },
  {
   "cell_type": "markdown",
   "id": "34b8782b",
   "metadata": {},
   "source": [
    "Instead of telling `geom_bar` to plot the identity (the normal actual value), we tell it to plot a **summary statistic**. Which summary statistic? The median, using numpy's `np.median`."
   ]
  },
  {
   "cell_type": "code",
   "execution_count": 91,
   "id": "792f39af",
   "metadata": {},
   "outputs": [
    {
     "data": {
      "image/png": "[encoded data removed]",
      "text/plain": [
       "<Figure size 640x480 with 1 Axes>"
      ]
     },
     "metadata": {},
     "output_type": "display_data"
    },
    {
     "data": {
      "text/plain": [
       "<ggplot: (322494702)>"
      ]
     },
     "execution_count": 91,
     "metadata": {},
     "output_type": "execute_result"
    }
   ],
   "source": [
    "import numpy as np\n",
    "\n",
    "(\n",
    "    ggplot(df)\n",
    "    + aes(x='continent', y='life_expectancy')\n",
    "    + geom_bar(stat='summary', fun_y=np.median)\n",
    ")"
   ]
  },
  {
   "cell_type": "markdown",
   "id": "a9f1f383",
   "metadata": {},
   "source": [
    "## Aggregate bar chart (count)\n",
    "\n",
    "Plotting a bar chart of counts is similar to how we did the median, but we use `stat='count'` instead of `stat='summary'`."
   ]
  },
  {
   "cell_type": "code",
   "execution_count": 102,
   "id": "fc5b0ffa",
   "metadata": {},
   "outputs": [
    {
     "data": {
      "text/html": [
       "<div>\n",
       "<style scoped>\n",
       "    .dataframe tbody tr th:only-of-type {\n",
       "        vertical-align: middle;\n",
       "    }\n",
       "\n",
       "    .dataframe tbody tr th {\n",
       "        vertical-align: top;\n",
       "    }\n",
       "\n",
       "    .dataframe thead th {\n",
       "        text-align: right;\n",
       "    }\n",
       "</style>\n",
       "<table border=\"1\" class=\"dataframe\">\n",
       "  <thead>\n",
       "    <tr style=\"text-align: right;\">\n",
       "      <th></th>\n",
       "      <th>country</th>\n",
       "      <th>continent</th>\n",
       "      <th>gdp_per_capita</th>\n",
       "      <th>life_expectancy</th>\n",
       "      <th>population</th>\n",
       "    </tr>\n",
       "  </thead>\n",
       "  <tbody>\n",
       "    <tr>\n",
       "      <th>0</th>\n",
       "      <td>Afghanistan</td>\n",
       "      <td>Asia</td>\n",
       "      <td>663</td>\n",
       "      <td>54.863</td>\n",
       "      <td>22856302</td>\n",
       "    </tr>\n",
       "    <tr>\n",
       "      <th>1</th>\n",
       "      <td>Albania</td>\n",
       "      <td>Europe</td>\n",
       "      <td>4195</td>\n",
       "      <td>74.200</td>\n",
       "      <td>3071856</td>\n",
       "    </tr>\n",
       "  </tbody>\n",
       "</table>\n",
       "</div>"
      ],
      "text/plain": [
       "       country continent  gdp_per_capita  life_expectancy  population\n",
       "0  Afghanistan      Asia             663           54.863    22856302\n",
       "1      Albania    Europe            4195           74.200     3071856"
      ]
     },
     "execution_count": 102,
     "metadata": {},
     "output_type": "execute_result"
    }
   ],
   "source": [
    "df = pd.read_csv('countries.csv')\n",
    "df.head(2)"
   ]
  },
  {
   "cell_type": "code",
   "execution_count": 104,
   "id": "8b9d0872",
   "metadata": {},
   "outputs": [
    {
     "data": {
      "image/png": "[encoded data removed]",
      "text/plain": [
       "<Figure size 640x480 with 1 Axes>"
      ]
     },
     "metadata": {},
     "output_type": "display_data"
    },
    {
     "data": {
      "text/plain": [
       "<ggplot: (324986974)>"
      ]
     },
     "execution_count": 104,
     "metadata": {},
     "output_type": "execute_result"
    }
   ],
   "source": [
    "(\n",
    "    ggplot(df)\n",
    "    + aes(x='continent')\n",
    "    + geom_bar(stat='count')\n",
    ")"
   ]
  },
  {
   "cell_type": "markdown",
   "id": "954d294b",
   "metadata": {},
   "source": [
    "## Horizontal bar charts\n",
    "\n",
    "To make a horizontal bar graph, you just add `coord_flip()` to the end of your plot."
   ]
  },
  {
   "cell_type": "code",
   "execution_count": 147,
   "id": "4fe69f43",
   "metadata": {},
   "outputs": [
    {
     "data": {
      "text/html": [
       "<div>\n",
       "<style scoped>\n",
       "    .dataframe tbody tr th:only-of-type {\n",
       "        vertical-align: middle;\n",
       "    }\n",
       "\n",
       "    .dataframe tbody tr th {\n",
       "        vertical-align: top;\n",
       "    }\n",
       "\n",
       "    .dataframe thead th {\n",
       "        text-align: right;\n",
       "    }\n",
       "</style>\n",
       "<table border=\"1\" class=\"dataframe\">\n",
       "  <thead>\n",
       "    <tr style=\"text-align: right;\">\n",
       "      <th></th>\n",
       "      <th>species</th>\n",
       "      <th>num_animals</th>\n",
       "    </tr>\n",
       "  </thead>\n",
       "  <tbody>\n",
       "    <tr>\n",
       "      <th>0</th>\n",
       "      <td>cat</td>\n",
       "      <td>8</td>\n",
       "    </tr>\n",
       "    <tr>\n",
       "      <th>1</th>\n",
       "      <td>dog</td>\n",
       "      <td>22</td>\n",
       "    </tr>\n",
       "    <tr>\n",
       "      <th>2</th>\n",
       "      <td>rabbit</td>\n",
       "      <td>2</td>\n",
       "    </tr>\n",
       "  </tbody>\n",
       "</table>\n",
       "</div>"
      ],
      "text/plain": [
       "  species  num_animals\n",
       "0     cat            8\n",
       "1     dog           22\n",
       "2  rabbit            2"
      ]
     },
     "execution_count": 147,
     "metadata": {},
     "output_type": "execute_result"
    }
   ],
   "source": [
    "df = pd.DataFrame([\n",
    "    { 'species': 'cat', 'num_animals': 8 },\n",
    "    { 'species': 'dog', 'num_animals': 22 },\n",
    "    { 'species': 'rabbit', 'num_animals': 2 },\n",
    "])\n",
    "df"
   ]
  },
  {
   "cell_type": "code",
   "execution_count": 148,
   "id": "9d69c655",
   "metadata": {},
   "outputs": [
    {
     "data": {
      "image/png": "[encoded data removed]",
      "text/plain": [
       "<Figure size 640x480 with 1 Axes>"
      ]
     },
     "metadata": {},
     "output_type": "display_data"
    },
    {
     "data": {
      "text/plain": [
       "<ggplot: (325331706)>"
      ]
     },
     "execution_count": 148,
     "metadata": {},
     "output_type": "execute_result"
    }
   ],
   "source": [
    "(\n",
    "    ggplot(df)\n",
    "    + aes(x='species', y='num_animals')\n",
    "    + geom_bar(stat='identity')\n",
    "    + coord_flip()\n",
    ")"
   ]
  },
  {
   "cell_type": "markdown",
   "id": "87b445f7",
   "metadata": {},
   "source": [
    "## Sorting your bars\n",
    "\n",
    "By defualt, `geom_bar` sorts based on alphabetical order. In order to sort your bars in plotnine, you need to use `reorder` when you're using `aes`."
   ]
  },
  {
   "cell_type": "code",
   "execution_count": 152,
   "id": "8464e2e0",
   "metadata": {},
   "outputs": [
    {
     "data": {
      "image/png": "[encoded data removed]",
      "text/plain": [
       "<Figure size 640x480 with 1 Axes>"
      ]
     },
     "metadata": {},
     "output_type": "display_data"
    },
    {
     "data": {
      "text/plain": [
       "<ggplot: (325451499)>"
      ]
     },
     "execution_count": 152,
     "metadata": {},
     "output_type": "execute_result"
    }
   ],
   "source": [
    "(\n",
    "    ggplot(df)\n",
    "    + aes(x='reorder(species, num_animals)', y='num_animals')\n",
    "    + geom_bar(stat='identity')\n",
    ")"
   ]
  },
  {
   "cell_type": "markdown",
   "id": "36a4f35e",
   "metadata": {},
   "source": [
    "`x='reorder(species, num_animals)'` means \"I want you to use `species` for the x axis, but I really want you to order it based on the `num_animals` column.\""
   ]
  },
  {
   "cell_type": "markdown",
   "id": "85b989f1",
   "metadata": {},
   "source": [
    "### Reversing your bar order\n",
    "\n",
    "Instead of sorting with `num_animals`, you're going to sort with `-num_animals`, which I guess it's the ... subtracted negative version?"
   ]
  },
  {
   "cell_type": "code",
   "execution_count": 155,
   "id": "0611dcb3",
   "metadata": {},
   "outputs": [
    {
     "data": {
      "image/png": "[encoded data removed]",
      "text/plain": [
       "<Figure size 640x480 with 1 Axes>"
      ]
     },
     "metadata": {},
     "output_type": "display_data"
    },
    {
     "data": {
      "text/plain": [
       "<ggplot: (325532546)>"
      ]
     },
     "execution_count": 155,
     "metadata": {},
     "output_type": "execute_result"
    }
   ],
   "source": [
    "(\n",
    "    ggplot(df)\n",
    "    + aes(x='reorder(species, -num_animals)', y='num_animals')\n",
    "    + geom_bar(stat='identity')\n",
    ")"
   ]
  },
  {
   "cell_type": "markdown",
   "id": "312165a3",
   "metadata": {},
   "source": [
    "## Stacked bar graph\n",
    "\n",
    "To make a stacked bar graph, you use one of your columns to specify `fill`, which is the color of the bar. All of the filled bars get stacked next to each other."
   ]
  },
  {
   "cell_type": "code",
   "execution_count": 173,
   "id": "9bf4b9c5",
   "metadata": {},
   "outputs": [
    {
     "data": {
      "text/html": [
       "<div>\n",
       "<style scoped>\n",
       "    .dataframe tbody tr th:only-of-type {\n",
       "        vertical-align: middle;\n",
       "    }\n",
       "\n",
       "    .dataframe tbody tr th {\n",
       "        vertical-align: top;\n",
       "    }\n",
       "\n",
       "    .dataframe thead th {\n",
       "        text-align: right;\n",
       "    }\n",
       "</style>\n",
       "<table border=\"1\" class=\"dataframe\">\n",
       "  <thead>\n",
       "    <tr style=\"text-align: right;\">\n",
       "      <th></th>\n",
       "      <th>species</th>\n",
       "      <th>num_animals</th>\n",
       "      <th>county</th>\n",
       "    </tr>\n",
       "  </thead>\n",
       "  <tbody>\n",
       "    <tr>\n",
       "      <th>0</th>\n",
       "      <td>cat</td>\n",
       "      <td>8</td>\n",
       "      <td>Kings</td>\n",
       "    </tr>\n",
       "    <tr>\n",
       "      <th>1</th>\n",
       "      <td>dog</td>\n",
       "      <td>22</td>\n",
       "      <td>Kings</td>\n",
       "    </tr>\n",
       "    <tr>\n",
       "      <th>2</th>\n",
       "      <td>cat</td>\n",
       "      <td>3</td>\n",
       "      <td>Queens</td>\n",
       "    </tr>\n",
       "    <tr>\n",
       "      <th>3</th>\n",
       "      <td>dog</td>\n",
       "      <td>2</td>\n",
       "      <td>Queens</td>\n",
       "    </tr>\n",
       "  </tbody>\n",
       "</table>\n",
       "</div>"
      ],
      "text/plain": [
       "  species  num_animals  county\n",
       "0     cat            8   Kings\n",
       "1     dog           22   Kings\n",
       "2     cat            3  Queens\n",
       "3     dog            2  Queens"
      ]
     },
     "execution_count": 173,
     "metadata": {},
     "output_type": "execute_result"
    }
   ],
   "source": [
    "df = pd.DataFrame([\n",
    "    { 'species': 'cat', 'num_animals': 8, 'county': 'Kings' },\n",
    "    { 'species': 'dog', 'num_animals': 22, 'county': 'Kings' },\n",
    "    { 'species': 'cat', 'num_animals': 3, 'county': 'Queens' },\n",
    "    { 'species': 'dog', 'num_animals': 2, 'county': 'Queens' },\n",
    "])\n",
    "df"
   ]
  },
  {
   "cell_type": "code",
   "execution_count": 174,
   "id": "6f4de0d6",
   "metadata": {},
   "outputs": [
    {
     "data": {
      "image/png": "[encoded data removed]",
      "text/plain": [
       "<Figure size 640x480 with 1 Axes>"
      ]
     },
     "metadata": {},
     "output_type": "display_data"
    },
    {
     "data": {
      "text/plain": [
       "<ggplot: (322829960)>"
      ]
     },
     "execution_count": 174,
     "metadata": {},
     "output_type": "execute_result"
    }
   ],
   "source": [
    "(\n",
    "    ggplot(df)\n",
    "    + aes(x='species', y='num_animals', fill='county')\n",
    "    + geom_bar(stat='identity')\n",
    ")"
   ]
  },
  {
   "cell_type": "markdown",
   "id": "fbe63fd9",
   "metadata": {},
   "source": [
    "## Grouped bar graph\n",
    "\n",
    "To make a grouped bar graph, you'll specify a `fill` color in the aesthetics, then use `position='dodge'` along with your `geom_bar`."
   ]
  },
  {
   "cell_type": "code",
   "execution_count": 170,
   "id": "1352a411",
   "metadata": {},
   "outputs": [
    {
     "data": {
      "text/html": [
       "<div>\n",
       "<style scoped>\n",
       "    .dataframe tbody tr th:only-of-type {\n",
       "        vertical-align: middle;\n",
       "    }\n",
       "\n",
       "    .dataframe tbody tr th {\n",
       "        vertical-align: top;\n",
       "    }\n",
       "\n",
       "    .dataframe thead th {\n",
       "        text-align: right;\n",
       "    }\n",
       "</style>\n",
       "<table border=\"1\" class=\"dataframe\">\n",
       "  <thead>\n",
       "    <tr style=\"text-align: right;\">\n",
       "      <th></th>\n",
       "      <th>species</th>\n",
       "      <th>num_animals</th>\n",
       "      <th>county</th>\n",
       "    </tr>\n",
       "  </thead>\n",
       "  <tbody>\n",
       "    <tr>\n",
       "      <th>0</th>\n",
       "      <td>cat</td>\n",
       "      <td>8</td>\n",
       "      <td>Kings</td>\n",
       "    </tr>\n",
       "    <tr>\n",
       "      <th>1</th>\n",
       "      <td>dog</td>\n",
       "      <td>22</td>\n",
       "      <td>Kings</td>\n",
       "    </tr>\n",
       "    <tr>\n",
       "      <th>2</th>\n",
       "      <td>cat</td>\n",
       "      <td>3</td>\n",
       "      <td>Queens</td>\n",
       "    </tr>\n",
       "    <tr>\n",
       "      <th>3</th>\n",
       "      <td>dog</td>\n",
       "      <td>2</td>\n",
       "      <td>Queens</td>\n",
       "    </tr>\n",
       "  </tbody>\n",
       "</table>\n",
       "</div>"
      ],
      "text/plain": [
       "  species  num_animals  county\n",
       "0     cat            8   Kings\n",
       "1     dog           22   Kings\n",
       "2     cat            3  Queens\n",
       "3     dog            2  Queens"
      ]
     },
     "execution_count": 170,
     "metadata": {},
     "output_type": "execute_result"
    }
   ],
   "source": [
    "df = pd.DataFrame([\n",
    "    { 'species': 'cat', 'num_animals': 8, 'county': 'Kings' },\n",
    "    { 'species': 'dog', 'num_animals': 22, 'county': 'Kings' },\n",
    "    { 'species': 'cat', 'num_animals': 3, 'county': 'Queens' },\n",
    "    { 'species': 'dog', 'num_animals': 2, 'county': 'Queens' },\n",
    "])\n",
    "df"
   ]
  },
  {
   "cell_type": "code",
   "execution_count": 171,
   "id": "530a8ee6",
   "metadata": {},
   "outputs": [
    {
     "data": {
      "image/png": "[encoded data removed]",
      "text/plain": [
       "<Figure size 640x480 with 1 Axes>"
      ]
     },
     "metadata": {},
     "output_type": "display_data"
    },
    {
     "data": {
      "text/plain": [
       "<ggplot: (324847595)>"
      ]
     },
     "execution_count": 171,
     "metadata": {},
     "output_type": "execute_result"
    }
   ],
   "source": [
    "(\n",
    "    ggplot(df)\n",
    "    + aes(x='species', y='num_animals', fill='county')\n",
    "    + geom_bar(stat='identity', position='dodge')\n",
    ")"
   ]
  },
  {
   "cell_type": "markdown",
   "id": "1b2f6aa7",
   "metadata": {},
   "source": [
    "### Extra spacing\n",
    "\n",
    "You can also use `position='dodge2'`, which adds a little extra space. I think it does something else, too, but nothing I've read really makes sense so I unfortunately can't explain it to you."
   ]
  },
  {
   "cell_type": "code",
   "execution_count": 172,
   "id": "c4552b54",
   "metadata": {},
   "outputs": [
    {
     "data": {
      "image/png": "[encoded data removed]",
      "text/plain": [
       "<Figure size 640x480 with 1 Axes>"
      ]
     },
     "metadata": {},
     "output_type": "display_data"
    },
    {
     "data": {
      "text/plain": [
       "<ggplot: (322783726)>"
      ]
     },
     "execution_count": 172,
     "metadata": {},
     "output_type": "execute_result"
    }
   ],
   "source": [
    "(\n",
    "    ggplot(df)\n",
    "    + aes(x='species', y='num_animals', fill='county')\n",
    "    + geom_bar(stat='identity', position='dodge2')\n",
    ")"
   ]
  },
  {
   "cell_type": "markdown",
   "id": "ddf0cc9e",
   "metadata": {},
   "source": [
    "## 100% stacked bar graph\n",
    "\n",
    "For a 100% stacked bar, you'll change the position of `geom_bar` to `fill`."
   ]
  },
  {
   "cell_type": "code",
   "execution_count": 178,
   "id": "1a16c818",
   "metadata": {},
   "outputs": [
    {
     "data": {
      "image/png": "[encoded data removed]",
      "text/plain": [
       "<Figure size 640x480 with 1 Axes>"
      ]
     },
     "metadata": {},
     "output_type": "display_data"
    },
    {
     "data": {
      "text/plain": [
       "<ggplot: (323090249)>"
      ]
     },
     "execution_count": 178,
     "metadata": {},
     "output_type": "execute_result"
    }
   ],
   "source": [
    "(\n",
    "    ggplot(df)\n",
    "    + aes(x='species', y='num_animals', fill='county')\n",
    "    + geom_bar(stat='identity', position='fill')\n",
    ")"
   ]
  },
  {
   "cell_type": "code",
   "execution_count": null,
   "id": "9735c857",
   "metadata": {},
   "outputs": [],
   "source": []
  }
 ],
 "metadata": {
  "kernelspec": {
   "display_name": "Python 3 (ipykernel)",
   "language": "python",
   "name": "python3"
  },
  "language_info": {
   "codemirror_mode": {
    "name": "ipython",
    "version": 3
   },
   "file_extension": ".py",
   "mimetype": "text/x-python",
   "name": "python",
   "nbconvert_exporter": "python",
   "pygments_lexer": "ipython3",
   "version": "3.9.7"
  }
 },
 "nbformat": 4,
 "nbformat_minor": 5
}
