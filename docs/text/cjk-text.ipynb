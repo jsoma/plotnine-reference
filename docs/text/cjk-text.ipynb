{
 "cells": [
  {
   "cell_type": "code",
   "execution_count": 2,
   "id": "b6508c70",
   "metadata": {},
   "outputs": [],
   "source": [
    "import pandas as pd\n",
    "from plotnine import *\n",
    "\n",
    "df = pd.DataFrame([\n",
    "    { 'lang': 'jp', 'word': 'たこ焼き', 'number': 300 },\n",
    "    { 'lang': 'cn', 'word': '火鍋', 'number': 400 },\n",
    "    { 'lang': 'ko', 'word': '김치', 'number': 200 },\n",
    "])"
   ]
  },
  {
   "cell_type": "markdown",
   "id": "afd38efa",
   "metadata": {},
   "source": [
    "# Displaying East Asian text (Chinese, Japanese, Korean) in plotnine\n",
    "\n",
    "When you try to display Chinese, Japanese, or Korean text on a plotnine graphic, you might get an error like this:\n",
    "\n",
    "```\n",
    "/Users/username/.pyenv/versions/3.9.7/lib/python3.9/site-packages/matplotlib/backends/backend_agg.py:240: RuntimeWarning: Glyph 12383 missing from current font.\n",
    "/Users/username/.pyenv/versions/3.9.7/lib/python3.9/site-packages/matplotlib/backends/backend_agg.py:240: RuntimeWarning: Glyph 12371 missing from current font.\n",
    "/Users/username/.pyenv/versions/3.9.7/lib/python3.9/site-packages/matplotlib/backends/backend_agg.py:240: RuntimeWarning: Glyph 28988 missing from current font.\n",
    "```\n",
    "\n",
    "This is because many fonts do not support these characters. To display them, you'll need to find a font that works for them.\n",
    "\n",
    "## Using Arial Unicode MS\n",
    "\n",
    "If we have a dataset of all three languages, `Arial Unicode MS` is a good option that supports characters around the world. We'll use `theme(text=element_text(family='Arial Unicode MS'))` to set all of the text in the graphic to be this font."
   ]
  },
  {
   "cell_type": "code",
   "execution_count": 14,
   "id": "5a4220df",
   "metadata": {},
   "outputs": [
    {
     "data": {
      "text/html": [
       "<div>\n",
       "<style scoped>\n",
       "    .dataframe tbody tr th:only-of-type {\n",
       "        vertical-align: middle;\n",
       "    }\n",
       "\n",
       "    .dataframe tbody tr th {\n",
       "        vertical-align: top;\n",
       "    }\n",
       "\n",
       "    .dataframe thead th {\n",
       "        text-align: right;\n",
       "    }\n",
       "</style>\n",
       "<table border=\"1\" class=\"dataframe\">\n",
       "  <thead>\n",
       "    <tr style=\"text-align: right;\">\n",
       "      <th></th>\n",
       "      <th>lang</th>\n",
       "      <th>word</th>\n",
       "      <th>number</th>\n",
       "    </tr>\n",
       "  </thead>\n",
       "  <tbody>\n",
       "    <tr>\n",
       "      <th>0</th>\n",
       "      <td>jp</td>\n",
       "      <td>たこ焼き</td>\n",
       "      <td>300</td>\n",
       "    </tr>\n",
       "    <tr>\n",
       "      <th>1</th>\n",
       "      <td>cn</td>\n",
       "      <td>火鍋</td>\n",
       "      <td>400</td>\n",
       "    </tr>\n",
       "    <tr>\n",
       "      <th>2</th>\n",
       "      <td>ko</td>\n",
       "      <td>김치</td>\n",
       "      <td>200</td>\n",
       "    </tr>\n",
       "  </tbody>\n",
       "</table>\n",
       "</div>"
      ],
      "text/plain": [
       "  lang  word  number\n",
       "0   jp  たこ焼き     300\n",
       "1   cn    火鍋     400\n",
       "2   ko    김치     200"
      ]
     },
     "execution_count": 14,
     "metadata": {},
     "output_type": "execute_result"
    }
   ],
   "source": [
    "df"
   ]
  },
  {
   "cell_type": "code",
   "execution_count": 15,
   "id": "3a51769e",
   "metadata": {},
   "outputs": [
    {
     "data": {
      "image/png": "[encoded data removed]",
      "text/plain": [
       "<Figure size 640x480 with 1 Axes>"
      ]
     },
     "metadata": {},
     "output_type": "display_data"
    },
    {
     "data": {
      "text/plain": [
       "<ggplot: (310861300)>"
      ]
     },
     "execution_count": 15,
     "metadata": {},
     "output_type": "execute_result"
    }
   ],
   "source": [
    "(\n",
    "    ggplot(df)\n",
    "    + aes(x='word', y='number')\n",
    "    + geom_bar(stat='identity')\n",
    "    + theme(text=element_text(family='Arial Unicode MS'))\n",
    ")"
   ]
  },
  {
   "cell_type": "markdown",
   "id": "e81aca95",
   "metadata": {},
   "source": [
    "## Using ONLY Chinese or Japanese character sets (SimHei, Heiti)\n",
    "\n",
    "Usually you only have one language in your dataset. Instead of using a font that has every single language in it, you might pick something more specific. For Chinese, there are specific fonts on both OS X and Windows that are built-in and work well.\n",
    "\n",
    "* **Windows:** SimHei\n",
    "* **OS X:** Heiti TC\n",
    "\n",
    "They won't display Korean correctly, but they'll be fine for Chinese and Japanese."
   ]
  },
  {
   "cell_type": "code",
   "execution_count": 18,
   "id": "e54281b5",
   "metadata": {},
   "outputs": [
    {
     "name": "stderr",
     "output_type": "stream",
     "text": [
      "/Users/soma/.pyenv/versions/3.9.7/lib/python3.9/site-packages/matplotlib/backends/backend_agg.py:240: RuntimeWarning: Glyph 44608 missing from current font.\n",
      "/Users/soma/.pyenv/versions/3.9.7/lib/python3.9/site-packages/matplotlib/backends/backend_agg.py:240: RuntimeWarning: Glyph 52824 missing from current font.\n",
      "/Users/soma/.pyenv/versions/3.9.7/lib/python3.9/site-packages/matplotlib/backends/backend_agg.py:203: RuntimeWarning: Glyph 44608 missing from current font.\n",
      "/Users/soma/.pyenv/versions/3.9.7/lib/python3.9/site-packages/matplotlib/backends/backend_agg.py:203: RuntimeWarning: Glyph 52824 missing from current font.\n"
     ]
    },
    {
     "data": {
      "image/png": "[encoded data removed]",
      "text/plain": [
       "<Figure size 640x480 with 1 Axes>"
      ]
     },
     "metadata": {},
     "output_type": "display_data"
    },
    {
     "data": {
      "text/plain": [
       "<ggplot: (309137818)>"
      ]
     },
     "execution_count": 18,
     "metadata": {},
     "output_type": "execute_result"
    }
   ],
   "source": [
    "# I'm on a mac, so I sue Heiti TC\n",
    "\n",
    "(\n",
    "    ggplot(df)\n",
    "    + aes(x='word', y='number')\n",
    "    + geom_bar(stat='identity')\n",
    "    + theme(text=element_text(family='Heiti TC'))\n",
    ")"
   ]
  },
  {
   "cell_type": "markdown",
   "id": "e916a316",
   "metadata": {},
   "source": [
    "## Other fonts and character sets\n",
    "\n",
    "To figure out all of your other options, it's usually best to [display a list of supported fonts](../text/print-list/)."
   ]
  },
  {
   "cell_type": "code",
   "execution_count": null,
   "id": "a1edbfbd",
   "metadata": {},
   "outputs": [],
   "source": []
  }
 ],
 "metadata": {
  "kernelspec": {
   "display_name": "Python 3 (ipykernel)",
   "language": "python",
   "name": "python3"
  },
  "language_info": {
   "codemirror_mode": {
    "name": "ipython",
    "version": 3
   },
   "file_extension": ".py",
   "mimetype": "text/x-python",
   "name": "python",
   "nbconvert_exporter": "python",
   "pygments_lexer": "ipython3",
   "version": "3.9.7"
  }
 },
 "nbformat": 4,
 "nbformat_minor": 5
}
