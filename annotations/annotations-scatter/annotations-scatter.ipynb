{
 "cells": [
  {
   "cell_type": "markdown",
   "id": "f73351da",
   "metadata": {},
   "source": [
    "# Annotating a scatter plot in plotnine\n",
    "\n",
    "First we'll drum up a sample dataset."
   ]
  },
  {
   "cell_type": "code",
   "execution_count": 4,
   "id": "ce41404e",
   "metadata": {},
   "outputs": [
    {
     "data": {
      "text/html": [
       "<div>\n",
       "<style scoped>\n",
       "    .dataframe tbody tr th:only-of-type {\n",
       "        vertical-align: middle;\n",
       "    }\n",
       "\n",
       "    .dataframe tbody tr th {\n",
       "        vertical-align: top;\n",
       "    }\n",
       "\n",
       "    .dataframe thead th {\n",
       "        text-align: right;\n",
       "    }\n",
       "</style>\n",
       "<table border=\"1\" class=\"dataframe\">\n",
       "  <thead>\n",
       "    <tr style=\"text-align: right;\">\n",
       "      <th></th>\n",
       "      <th>name</th>\n",
       "      <th>amount</th>\n",
       "      <th>price</th>\n",
       "    </tr>\n",
       "  </thead>\n",
       "  <tbody>\n",
       "    <tr>\n",
       "      <th>0</th>\n",
       "      <td>seashells</td>\n",
       "      <td>65</td>\n",
       "      <td>14</td>\n",
       "    </tr>\n",
       "    <tr>\n",
       "      <th>1</th>\n",
       "      <td>sand</td>\n",
       "      <td>40</td>\n",
       "      <td>34</td>\n",
       "    </tr>\n",
       "    <tr>\n",
       "      <th>2</th>\n",
       "      <td>barnacles</td>\n",
       "      <td>23</td>\n",
       "      <td>77</td>\n",
       "    </tr>\n",
       "  </tbody>\n",
       "</table>\n",
       "</div>"
      ],
      "text/plain": [
       "        name  amount  price\n",
       "0  seashells      65     14\n",
       "1       sand      40     34\n",
       "2  barnacles      23     77"
      ]
     },
     "execution_count": 4,
     "metadata": {},
     "output_type": "execute_result"
    }
   ],
   "source": [
    "import pandas as pd\n",
    "from plotnine import *\n",
    "\n",
    "df = pd.DataFrame([\n",
    "    { 'name': 'seashells', 'amount': 65, 'price': 14 },\n",
    "    { 'name': 'sand', 'amount': 40, 'price': 34 },\n",
    "    { 'name': 'barnacles', 'amount': 23, 'price': 77 }\n",
    "])\n",
    "df"
   ]
  },
  {
   "cell_type": "markdown",
   "id": "bc81572a",
   "metadata": {},
   "source": [
    "## Annotate every point on a scatter plot using `geom_text`\n",
    "\n",
    "To annotate a scatter plot, you need to pass `label='colname'` to your `aes`. This tells `geom_text` what the text label should be. You usually also use `ha='left'` or `ha='right'` to either left- or right-align the label, and `nudge_x` or `nudge_y` to give it a little extra space."
   ]
  },
  {
   "cell_type": "code",
   "execution_count": 24,
   "id": "c5716906",
   "metadata": {},
   "outputs": [
    {
     "data": {
      "image/png": "[encoded data removed]",
      "text/plain": [
       "<Figure size 640x480 with 1 Axes>"
      ]
     },
     "metadata": {},
     "output_type": "display_data"
    },
    {
     "data": {
      "text/plain": [
       "<ggplot: (314309614)>"
      ]
     },
     "execution_count": 24,
     "metadata": {},
     "output_type": "execute_result"
    }
   ],
   "source": [
    "(\n",
    "    ggplot(df)\n",
    "    + aes(x='amount', y='price', label='name')\n",
    "    + geom_point()\n",
    "    + geom_text(ha='left', nudge_x=1)\n",
    "    + ylim(0, 80)\n",
    "    + xlim(0, 80)\n",
    ")"
   ]
  },
  {
   "cell_type": "code",
   "execution_count": null,
   "id": "2dcb08e3",
   "metadata": {},
   "outputs": [],
   "source": []
  }
 ],
 "metadata": {
  "kernelspec": {
   "display_name": "Python 3 (ipykernel)",
   "language": "python",
   "name": "python3"
  },
  "language_info": {
   "codemirror_mode": {
    "name": "ipython",
    "version": 3
   },
   "file_extension": ".py",
   "mimetype": "text/x-python",
   "name": "python",
   "nbconvert_exporter": "python",
   "pygments_lexer": "ipython3",
   "version": "3.9.7"
  }
 },
 "nbformat": 4,
 "nbformat_minor": 5
}
