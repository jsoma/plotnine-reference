{
 "cells": [
  {
   "cell_type": "markdown",
   "id": "2b5164e2",
   "metadata": {},
   "source": [
    "# Saving a plotnine graph to png\n",
    "\n",
    "Once you're done with exploratory data analysis, it's time to show your graphic to the world! That's when you export."
   ]
  },
  {
   "cell_type": "code",
   "execution_count": 1,
   "id": "ca64e2e5",
   "metadata": {},
   "outputs": [
    {
     "data": {
      "text/html": [
       "<div>\n",
       "<style scoped>\n",
       "    .dataframe tbody tr th:only-of-type {\n",
       "        vertical-align: middle;\n",
       "    }\n",
       "\n",
       "    .dataframe tbody tr th {\n",
       "        vertical-align: top;\n",
       "    }\n",
       "\n",
       "    .dataframe thead th {\n",
       "        text-align: right;\n",
       "    }\n",
       "</style>\n",
       "<table border=\"1\" class=\"dataframe\">\n",
       "  <thead>\n",
       "    <tr style=\"text-align: right;\">\n",
       "      <th></th>\n",
       "      <th>amount</th>\n",
       "      <th>category</th>\n",
       "    </tr>\n",
       "  </thead>\n",
       "  <tbody>\n",
       "    <tr>\n",
       "      <th>0</th>\n",
       "      <td>34</td>\n",
       "      <td>almonds</td>\n",
       "    </tr>\n",
       "    <tr>\n",
       "      <th>1</th>\n",
       "      <td>11</td>\n",
       "      <td>strawberries</td>\n",
       "    </tr>\n",
       "    <tr>\n",
       "      <th>2</th>\n",
       "      <td>20</td>\n",
       "      <td>oats</td>\n",
       "    </tr>\n",
       "  </tbody>\n",
       "</table>\n",
       "</div>"
      ],
      "text/plain": [
       "   amount      category\n",
       "0      34       almonds\n",
       "1      11  strawberries\n",
       "2      20          oats"
      ]
     },
     "execution_count": 1,
     "metadata": {},
     "output_type": "execute_result"
    }
   ],
   "source": [
    "import pandas as pd\n",
    "from plotnine import *\n",
    "\n",
    "df = pd.DataFrame([\n",
    "    { 'amount': 34, 'category': 'almonds'},\n",
    "    { 'amount': 11, 'category': 'strawberries'},\n",
    "    { 'amount': 20, 'category': 'oats'},\n",
    "])\n",
    "df"
   ]
  },
  {
   "cell_type": "markdown",
   "id": "5fd853cb",
   "metadata": {},
   "source": [
    "### Saving as a png\n",
    "\n",
    "Unless you're going to be editing it in software like Adobe Illustrator, you usually want to save your graphic as a png! If you went with a jpeg file you're going to lose quality!\n",
    "\n",
    "To save your graph, just save the graph as a variable and use `.save('filename.png')`."
   ]
  },
  {
   "cell_type": "code",
   "execution_count": 2,
   "id": "8d6cad5f",
   "metadata": {},
   "outputs": [
    {
     "name": "stderr",
     "output_type": "stream",
     "text": [
      "/Users/soma/Development/plotnine/plotnine/ggplot.py:731: PlotnineWarning: Saving 6.4 x 4.8 in image.\n",
      "/Users/soma/Development/plotnine/plotnine/ggplot.py:734: PlotnineWarning: Filename: filename.png\n"
     ]
    },
    {
     "data": {
      "image/png": "[encoded data removed]",
      "text/plain": [
       "<Figure size 640x480 with 1 Axes>"
      ]
     },
     "metadata": {},
     "output_type": "display_data"
    },
    {
     "data": {
      "text/plain": [
       "<ggplot: (311459307)>"
      ]
     },
     "execution_count": 2,
     "metadata": {},
     "output_type": "execute_result"
    }
   ],
   "source": [
    "chart = (\n",
    "    ggplot(df)\n",
    "    + aes(x='category', y='amount')\n",
    "    + geom_bar(stat='identity')\n",
    ")\n",
    "chart.save(\"filename.png\")\n",
    "chart"
   ]
  },
  {
   "cell_type": "markdown",
   "id": "3f47a3fa",
   "metadata": {},
   "source": [
    "### Changing the size of the output file\n",
    "\n",
    "Sometimes you want a bigger or smaller image! To do this, you'll need to adjust the `figure_size` with the `theme`. It's in *inches*, which is very weird, but that's life. Just make it until the size seems right."
   ]
  },
  {
   "cell_type": "code",
   "execution_count": 6,
   "id": "10c4f8d0",
   "metadata": {},
   "outputs": [
    {
     "name": "stderr",
     "output_type": "stream",
     "text": [
      "/Users/soma/Development/plotnine/plotnine/ggplot.py:731: PlotnineWarning: Saving 10 x 3 in image.\n",
      "/Users/soma/Development/plotnine/plotnine/ggplot.py:734: PlotnineWarning: Filename: filename.png\n"
     ]
    },
    {
     "data": {
      "image/png": "[encoded data removed]",
      "text/plain": [
       "<Figure size 1000x300 with 1 Axes>"
      ]
     },
     "metadata": {},
     "output_type": "display_data"
    },
    {
     "data": {
      "text/plain": [
       "<ggplot: (313950067)>"
      ]
     },
     "execution_count": 6,
     "metadata": {},
     "output_type": "execute_result"
    }
   ],
   "source": [
    "chart = (\n",
    "    ggplot(df)\n",
    "    + aes(x='category', y='amount')\n",
    "    + geom_bar(stat='identity')\n",
    "    + theme(figure_size=(10, 3))\n",
    ")\n",
    "chart.save(\"filename.png\")\n",
    "chart"
   ]
  },
  {
   "cell_type": "markdown",
   "id": "4576e641",
   "metadata": {},
   "source": [
    "In theory you can also change the resolution by passing `dpi=` but... it doesn't really matter (I think) unless you're doing something for print publications or getting fancy with multiple resolution images for retina screens."
   ]
  },
  {
   "cell_type": "code",
   "execution_count": null,
   "id": "4a04a1b1",
   "metadata": {},
   "outputs": [],
   "source": []
  }
 ],
 "metadata": {
  "kernelspec": {
   "display_name": "Python 3 (ipykernel)",
   "language": "python",
   "name": "python3"
  },
  "language_info": {
   "codemirror_mode": {
    "name": "ipython",
    "version": 3
   },
   "file_extension": ".py",
   "mimetype": "text/x-python",
   "name": "python",
   "nbconvert_exporter": "python",
   "pygments_lexer": "ipython3",
   "version": "3.9.7"
  }
 },
 "nbformat": 4,
 "nbformat_minor": 5
}
